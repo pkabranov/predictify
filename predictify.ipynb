{
  "nbformat": 4,
  "nbformat_minor": 0,
  "metadata": {
    "colab": {
      "name": "spotify_hit_prediction",
      "provenance": [],
      "collapsed_sections": []
    },
    "kernelspec": {
      "name": "python3",
      "display_name": "Python 3"
    }
  },
  "cells": [
    {
      "cell_type": "code",
      "metadata": {
        "id": "tnIR0-kj8BcM",
        "colab_type": "code",
        "outputId": "29a1b7ef-9248-43f9-9fea-6678f7760945",
        "colab": {
          "base_uri": "https://localhost:8080/",
          "height": 547
        }
      },
      "source": [
        "#install dependencies\n",
        "!pip install spotipy --upgrade \n",
        "!pip install --upgrade google-api-python-client google-auth-httplib2 google-auth-oauthlib"
      ],
      "execution_count": 63,
      "outputs": [
        {
          "output_type": "stream",
          "text": [
            "Requirement already up-to-date: spotipy in /usr/local/lib/python3.6/dist-packages (2.12.0)\n",
            "Requirement already satisfied, skipping upgrade: requests>=2.20.0 in /usr/local/lib/python3.6/dist-packages (from spotipy) (2.23.0)\n",
            "Requirement already satisfied, skipping upgrade: six>=1.10.0 in /usr/local/lib/python3.6/dist-packages (from spotipy) (1.12.0)\n",
            "Requirement already satisfied, skipping upgrade: chardet<4,>=3.0.2 in /usr/local/lib/python3.6/dist-packages (from requests>=2.20.0->spotipy) (3.0.4)\n",
            "Requirement already satisfied, skipping upgrade: certifi>=2017.4.17 in /usr/local/lib/python3.6/dist-packages (from requests>=2.20.0->spotipy) (2020.4.5.1)\n",
            "Requirement already satisfied, skipping upgrade: urllib3!=1.25.0,!=1.25.1,<1.26,>=1.21.1 in /usr/local/lib/python3.6/dist-packages (from requests>=2.20.0->spotipy) (1.24.3)\n",
            "Requirement already satisfied, skipping upgrade: idna<3,>=2.5 in /usr/local/lib/python3.6/dist-packages (from requests>=2.20.0->spotipy) (2.9)\n",
            "Requirement already up-to-date: google-api-python-client in /usr/local/lib/python3.6/dist-packages (1.8.4)\n",
            "Requirement already up-to-date: google-auth-httplib2 in /usr/local/lib/python3.6/dist-packages (0.0.3)\n",
            "Requirement already up-to-date: google-auth-oauthlib in /usr/local/lib/python3.6/dist-packages (0.4.1)\n",
            "Requirement already satisfied, skipping upgrade: google-auth>=1.4.1 in /usr/local/lib/python3.6/dist-packages (from google-api-python-client) (1.7.2)\n",
            "Requirement already satisfied, skipping upgrade: httplib2<1dev,>=0.9.2 in /usr/local/lib/python3.6/dist-packages (from google-api-python-client) (0.17.3)\n",
            "Requirement already satisfied, skipping upgrade: six<2dev,>=1.6.1 in /usr/local/lib/python3.6/dist-packages (from google-api-python-client) (1.12.0)\n",
            "Requirement already satisfied, skipping upgrade: uritemplate<4dev,>=3.0.0 in /usr/local/lib/python3.6/dist-packages (from google-api-python-client) (3.0.1)\n",
            "Requirement already satisfied, skipping upgrade: google-api-core<2dev,>=1.13.0 in /usr/local/lib/python3.6/dist-packages (from google-api-python-client) (1.16.0)\n",
            "Requirement already satisfied, skipping upgrade: requests-oauthlib>=0.7.0 in /usr/local/lib/python3.6/dist-packages (from google-auth-oauthlib) (1.3.0)\n",
            "Requirement already satisfied, skipping upgrade: cachetools<3.2,>=2.0.0 in /usr/local/lib/python3.6/dist-packages (from google-auth>=1.4.1->google-api-python-client) (3.1.1)\n",
            "Requirement already satisfied, skipping upgrade: pyasn1-modules>=0.2.1 in /usr/local/lib/python3.6/dist-packages (from google-auth>=1.4.1->google-api-python-client) (0.2.8)\n",
            "Requirement already satisfied, skipping upgrade: rsa<4.1,>=3.1.4 in /usr/local/lib/python3.6/dist-packages (from google-auth>=1.4.1->google-api-python-client) (4.0)\n",
            "Requirement already satisfied, skipping upgrade: setuptools>=40.3.0 in /usr/local/lib/python3.6/dist-packages (from google-auth>=1.4.1->google-api-python-client) (47.1.1)\n",
            "Requirement already satisfied, skipping upgrade: requests<3.0.0dev,>=2.18.0 in /usr/local/lib/python3.6/dist-packages (from google-api-core<2dev,>=1.13.0->google-api-python-client) (2.23.0)\n",
            "Requirement already satisfied, skipping upgrade: protobuf>=3.4.0 in /usr/local/lib/python3.6/dist-packages (from google-api-core<2dev,>=1.13.0->google-api-python-client) (3.10.0)\n",
            "Requirement already satisfied, skipping upgrade: googleapis-common-protos<2.0dev,>=1.6.0 in /usr/local/lib/python3.6/dist-packages (from google-api-core<2dev,>=1.13.0->google-api-python-client) (1.51.0)\n",
            "Requirement already satisfied, skipping upgrade: pytz in /usr/local/lib/python3.6/dist-packages (from google-api-core<2dev,>=1.13.0->google-api-python-client) (2018.9)\n",
            "Requirement already satisfied, skipping upgrade: oauthlib>=3.0.0 in /usr/local/lib/python3.6/dist-packages (from requests-oauthlib>=0.7.0->google-auth-oauthlib) (3.1.0)\n",
            "Requirement already satisfied, skipping upgrade: pyasn1<0.5.0,>=0.4.6 in /usr/local/lib/python3.6/dist-packages (from pyasn1-modules>=0.2.1->google-auth>=1.4.1->google-api-python-client) (0.4.8)\n",
            "Requirement already satisfied, skipping upgrade: urllib3!=1.25.0,!=1.25.1,<1.26,>=1.21.1 in /usr/local/lib/python3.6/dist-packages (from requests<3.0.0dev,>=2.18.0->google-api-core<2dev,>=1.13.0->google-api-python-client) (1.24.3)\n",
            "Requirement already satisfied, skipping upgrade: idna<3,>=2.5 in /usr/local/lib/python3.6/dist-packages (from requests<3.0.0dev,>=2.18.0->google-api-core<2dev,>=1.13.0->google-api-python-client) (2.9)\n",
            "Requirement already satisfied, skipping upgrade: chardet<4,>=3.0.2 in /usr/local/lib/python3.6/dist-packages (from requests<3.0.0dev,>=2.18.0->google-api-core<2dev,>=1.13.0->google-api-python-client) (3.0.4)\n",
            "Requirement already satisfied, skipping upgrade: certifi>=2017.4.17 in /usr/local/lib/python3.6/dist-packages (from requests<3.0.0dev,>=2.18.0->google-api-core<2dev,>=1.13.0->google-api-python-client) (2020.4.5.1)\n"
          ],
          "name": "stdout"
        }
      ]
    },
    {
      "cell_type": "code",
      "metadata": {
        "id": "nrYyNS9EnnYx",
        "colab_type": "code",
        "colab": {}
      },
      "source": [
        "#imports for API request\n",
        "import json\n",
        "import spotipy as sp\n",
        "from spotipy.oauth2 import SpotifyClientCredentials\n",
        "import csv"
      ],
      "execution_count": 0,
      "outputs": []
    },
    {
      "cell_type": "code",
      "metadata": {
        "id": "vM-8AA7oPXSm",
        "colab_type": "code",
        "colab": {}
      },
      "source": [
        "#imports for NN\n",
        "import torch\n",
        "import torch.nn as nn\n",
        "import torch.nn.functional as F\n",
        "import torch.optim as optim\n",
        "import matplotlib.pyplot as plt\n",
        "import numpy as np\n",
        "from tqdm import tqdm_notebook as tqdm\n",
        "from torch import utils"
      ],
      "execution_count": 0,
      "outputs": []
    },
    {
      "cell_type": "code",
      "metadata": {
        "id": "YIlyfqjCdMQk",
        "colab_type": "code",
        "outputId": "6211c62b-96c8-4420-ddea-94d04461cc18",
        "colab": {
          "base_uri": "https://localhost:8080/",
          "height": 34
        }
      },
      "source": [
        "from google.colab import drive\n",
        "drive.mount('/content/drive')"
      ],
      "execution_count": 66,
      "outputs": [
        {
          "output_type": "stream",
          "text": [
            "Drive already mounted at /content/drive; to attempt to forcibly remount, call drive.mount(\"/content/drive\", force_remount=True).\n"
          ],
          "name": "stdout"
        }
      ]
    },
    {
      "cell_type": "code",
      "metadata": {
        "id": "u_VDinzUSi3z",
        "colab_type": "code",
        "outputId": "79434bee-dead-4b56-c1e0-d12f70251458",
        "colab": {
          "base_uri": "https://localhost:8080/",
          "height": 71
        }
      },
      "source": [
        "#Get authorization\n",
        "token = sp.oauth2.SpotifyClientCredentials(client_id='0ae72c9b0d4948d5ba0206c4c350d3fe', client_secret='c1db0c06c2df46b7b9219250080adc8d')\n",
        "cache_token = token.get_access_token()\n",
        "spotify = sp.Spotify(cache_token)"
      ],
      "execution_count": 67,
      "outputs": [
        {
          "output_type": "stream",
          "text": [
            "/usr/local/lib/python3.6/dist-packages/ipykernel_launcher.py:3: DeprecationWarning: You're using 'as_dict = True'.get_access_token will return the token string directly in future versions. Please adjust your code accordingly, or use get_cached_token instead.\n",
            "  This is separate from the ipykernel package so we can avoid doing imports until\n"
          ],
          "name": "stderr"
        }
      ]
    },
    {
      "cell_type": "code",
      "metadata": {
        "id": "ULqVaLKdg9y-",
        "colab_type": "code",
        "outputId": "c9ee7b44-ac84-4321-dad2-14017f7c5b74",
        "colab": {
          "base_uri": "https://localhost:8080/",
          "height": 34
        }
      },
      "source": [
        "spotify.user_playlist_tracks('pkabranov', '4Kvvbir7qtwhF5xIeRILOl', limit=15, offset=0).get('total')"
      ],
      "execution_count": 68,
      "outputs": [
        {
          "output_type": "execute_result",
          "data": {
            "text/plain": [
              "1222"
            ]
          },
          "metadata": {
            "tags": []
          },
          "execution_count": 68
        }
      ]
    },
    {
      "cell_type": "code",
      "metadata": {
        "id": "PtJxcETlfq0T",
        "colab_type": "code",
        "colab": {}
      },
      "source": [
        "#Get IDs in specified playlist \n",
        "import pandas as pd\n",
        "def get_playlist_ids(playlist_id):\n",
        "  offset = 0\n",
        "  track_ids = []\n",
        "  while offset < spotify.user_playlist_tracks('pkabranov', playlist_id, offset=0).get('total'):\n",
        "    #print(offset)\n",
        "    results = spotifey.user_playlist_tracks('pkabranov', playlist_id, limit=1, offset=offset)\n",
        "    for item in results['items']:\n",
        "      if not item in track_ids: \n",
        "        track_ids.append(item['track']['id'])\n",
        "    offset += 1\n",
        "  return track_ids\n",
        "rishi_ids = get_playlist_ids('4Kvvbir7qtwhF5xIeRILOl')"
      ],
      "execution_count": 0,
      "outputs": []
    },
    {
      "cell_type": "code",
      "metadata": {
        "id": "yPoo3ZckpENO",
        "colab_type": "code",
        "colab": {}
      },
      "source": [
        "#Get usable features for each track in track_ids\n",
        "\n",
        "def get_playlist_features(track_ids):\n",
        "  batch, interval = 0, 100\n",
        "  all_usable_track_features = []\n",
        "\n",
        "  while batch < len(track_ids) - interval:\n",
        "    all_usable_track_features.extend(spotify.audio_features(track_ids[batch:(batch + interval)]))\n",
        "    batch += interval\n",
        "    if batch > len(track_ids) - interval:\n",
        "      all_usable_track_features.extend(spotify.audio_features(track_ids[batch:(batch + len(track_ids) % interval)]))\n",
        "\n",
        "  usable_keys = ['duration_ms', 'id', 'key', 'loudness', 'tempo', 'time_signature']\n",
        "  usable_track_features = []\n",
        "\n",
        "  for track in all_usable_track_features:\n",
        "    if track:\n",
        "      usable_track_features.append({key: value for (key, value) in track.items() if key in usable_keys})\n",
        "\n",
        "  return usable_track_features"
      ],
      "execution_count": 0,
      "outputs": []
    },
    {
      "cell_type": "code",
      "metadata": {
        "id": "sd10C6M-L2DW",
        "colab_type": "code",
        "outputId": "e096028d-4ad3-4618-c0d6-cd6053ab6ccd",
        "colab": {
          "base_uri": "https://localhost:8080/",
          "height": 419
        }
      },
      "source": [
        "def df_gen(playlist_id):\n",
        "    ids = get_playlist_ids(playlist_id)\n",
        "    feat = get_playlist_features(ids)\n",
        "    id_df = pd.DataFrame.from_dict(ids, orient = \"columns\")\n",
        "    feat_df = pd.DataFrame.from_dict(feat, orient = \"columns\")\n",
        "    df = id_df.join(feat_df)\n",
        "    return df\n",
        "  \n",
        "features = df_gen('4Kvvbir7qtwhF5xIeRILOl')\n",
        "features"
      ],
      "execution_count": 80,
      "outputs": [
        {
          "output_type": "execute_result",
          "data": {
            "text/html": [
              "<div>\n",
              "<style scoped>\n",
              "    .dataframe tbody tr th:only-of-type {\n",
              "        vertical-align: middle;\n",
              "    }\n",
              "\n",
              "    .dataframe tbody tr th {\n",
              "        vertical-align: top;\n",
              "    }\n",
              "\n",
              "    .dataframe thead th {\n",
              "        text-align: right;\n",
              "    }\n",
              "</style>\n",
              "<table border=\"1\" class=\"dataframe\">\n",
              "  <thead>\n",
              "    <tr style=\"text-align: right;\">\n",
              "      <th></th>\n",
              "      <th>0</th>\n",
              "      <th>key</th>\n",
              "      <th>loudness</th>\n",
              "      <th>tempo</th>\n",
              "      <th>id</th>\n",
              "      <th>duration_ms</th>\n",
              "      <th>time_signature</th>\n",
              "    </tr>\n",
              "  </thead>\n",
              "  <tbody>\n",
              "    <tr>\n",
              "      <th>0</th>\n",
              "      <td>3IvMYBE7A3c7to1aEcfFJk</td>\n",
              "      <td>7</td>\n",
              "      <td>-3.680</td>\n",
              "      <td>77.888</td>\n",
              "      <td>3IvMYBE7A3c7to1aEcfFJk</td>\n",
              "      <td>222929</td>\n",
              "      <td>4</td>\n",
              "    </tr>\n",
              "    <tr>\n",
              "      <th>1</th>\n",
              "      <td>5TCBWmEBrin7etRa4Lswr1</td>\n",
              "      <td>1</td>\n",
              "      <td>-6.808</td>\n",
              "      <td>170.718</td>\n",
              "      <td>5TCBWmEBrin7etRa4Lswr1</td>\n",
              "      <td>223124</td>\n",
              "      <td>4</td>\n",
              "    </tr>\n",
              "    <tr>\n",
              "      <th>2</th>\n",
              "      <td>4wVOKKEHUJxHCFFNUWDn0B</td>\n",
              "      <td>10</td>\n",
              "      <td>-7.507</td>\n",
              "      <td>122.947</td>\n",
              "      <td>4wVOKKEHUJxHCFFNUWDn0B</td>\n",
              "      <td>220488</td>\n",
              "      <td>4</td>\n",
              "    </tr>\n",
              "    <tr>\n",
              "      <th>3</th>\n",
              "      <td>3Q4gttWQ6hxqWOa3tHoTNi</td>\n",
              "      <td>9</td>\n",
              "      <td>-9.299</td>\n",
              "      <td>86.318</td>\n",
              "      <td>3Q4gttWQ6hxqWOa3tHoTNi</td>\n",
              "      <td>269680</td>\n",
              "      <td>4</td>\n",
              "    </tr>\n",
              "    <tr>\n",
              "      <th>4</th>\n",
              "      <td>466cKvZn1j45IpxDdYZqdA</td>\n",
              "      <td>1</td>\n",
              "      <td>-8.820</td>\n",
              "      <td>81.604</td>\n",
              "      <td>466cKvZn1j45IpxDdYZqdA</td>\n",
              "      <td>247059</td>\n",
              "      <td>4</td>\n",
              "    </tr>\n",
              "    <tr>\n",
              "      <th>...</th>\n",
              "      <td>...</td>\n",
              "      <td>...</td>\n",
              "      <td>...</td>\n",
              "      <td>...</td>\n",
              "      <td>...</td>\n",
              "      <td>...</td>\n",
              "      <td>...</td>\n",
              "    </tr>\n",
              "    <tr>\n",
              "      <th>1217</th>\n",
              "      <td>3oDkdAySo1VQQG0ptV7uwa</td>\n",
              "      <td>1</td>\n",
              "      <td>-5.515</td>\n",
              "      <td>163.935</td>\n",
              "      <td>3oDkdAySo1VQQG0ptV7uwa</td>\n",
              "      <td>175755</td>\n",
              "      <td>4</td>\n",
              "    </tr>\n",
              "    <tr>\n",
              "      <th>1218</th>\n",
              "      <td>6cjSh516BbrNUs213jDAGm</td>\n",
              "      <td>0</td>\n",
              "      <td>-5.286</td>\n",
              "      <td>154.968</td>\n",
              "      <td>6cjSh516BbrNUs213jDAGm</td>\n",
              "      <td>177847</td>\n",
              "      <td>4</td>\n",
              "    </tr>\n",
              "    <tr>\n",
              "      <th>1219</th>\n",
              "      <td>6Zc5f20q7sOe1IC1c1jQvZ</td>\n",
              "      <td>6</td>\n",
              "      <td>-6.103</td>\n",
              "      <td>136.020</td>\n",
              "      <td>6Zc5f20q7sOe1IC1c1jQvZ</td>\n",
              "      <td>228816</td>\n",
              "      <td>4</td>\n",
              "    </tr>\n",
              "    <tr>\n",
              "      <th>1220</th>\n",
              "      <td>7vbjH8laThXpcBXeLNPm3M</td>\n",
              "      <td>2</td>\n",
              "      <td>-7.635</td>\n",
              "      <td>153.028</td>\n",
              "      <td>7vbjH8laThXpcBXeLNPm3M</td>\n",
              "      <td>189800</td>\n",
              "      <td>4</td>\n",
              "    </tr>\n",
              "    <tr>\n",
              "      <th>1221</th>\n",
              "      <td>5u6vkDnOyaf8LsteDAj2ub</td>\n",
              "      <td>2</td>\n",
              "      <td>-7.033</td>\n",
              "      <td>82.994</td>\n",
              "      <td>5u6vkDnOyaf8LsteDAj2ub</td>\n",
              "      <td>268933</td>\n",
              "      <td>4</td>\n",
              "    </tr>\n",
              "  </tbody>\n",
              "</table>\n",
              "<p>1222 rows × 7 columns</p>\n",
              "</div>"
            ],
            "text/plain": [
              "                           0  key  ...  duration_ms  time_signature\n",
              "0     3IvMYBE7A3c7to1aEcfFJk    7  ...       222929               4\n",
              "1     5TCBWmEBrin7etRa4Lswr1    1  ...       223124               4\n",
              "2     4wVOKKEHUJxHCFFNUWDn0B   10  ...       220488               4\n",
              "3     3Q4gttWQ6hxqWOa3tHoTNi    9  ...       269680               4\n",
              "4     466cKvZn1j45IpxDdYZqdA    1  ...       247059               4\n",
              "...                      ...  ...  ...          ...             ...\n",
              "1217  3oDkdAySo1VQQG0ptV7uwa    1  ...       175755               4\n",
              "1218  6cjSh516BbrNUs213jDAGm    0  ...       177847               4\n",
              "1219  6Zc5f20q7sOe1IC1c1jQvZ    6  ...       228816               4\n",
              "1220  7vbjH8laThXpcBXeLNPm3M    2  ...       189800               4\n",
              "1221  5u6vkDnOyaf8LsteDAj2ub    2  ...       268933               4\n",
              "\n",
              "[1222 rows x 7 columns]"
            ]
          },
          "metadata": {
            "tags": []
          },
          "execution_count": 80
        }
      ]
    },
    {
      "cell_type": "code",
      "metadata": {
        "id": "bkYFQV7k3Gws",
        "colab_type": "code",
        "colab": {}
      },
      "source": [
        "import urllib\n",
        "from tqdm import tqdm\n",
        "import numpy as np"
      ],
      "execution_count": 0,
      "outputs": []
    },
    {
      "cell_type": "code",
      "metadata": {
        "id": "hDHD1_7jd3xa",
        "colab_type": "code",
        "outputId": "f1b5dd9f-8dde-408d-e5eb-5c7a27e1c4a8",
        "colab": {
          "base_uri": "https://localhost:8080/",
          "height": 419
        }
      },
      "source": [
        "def get_artist_song_ids():\n",
        "  with open('drive/My Drive/predictify/data_table_2.csv', newline='') as csvfile:\n",
        "      spamreader = csv.reader(csvfile, delimiter=',', quotechar='|')\n",
        "      #row_count = sum([1 for row in spamreader])\n",
        "\n",
        "      all_rows_df = pd.DataFrame(columns = ['artist', 'song', 'id', 'play count'])\n",
        "\n",
        "      for row in spamreader:\n",
        "          url = urllib.parse.unquote(row[1] + \"%20artist:\" + row[0])\n",
        "          search_result = spotify.search(url, type='track', limit=1)\n",
        "          try:\n",
        "            curr_row_df = pd.DataFrame({'artist': [search_result.get('tracks')['items'][0]['artists'][0].get('name')], #artist name\n",
        "                                        'song': [search_result.get('tracks')['items'][0]['name']], #song name\n",
        "                                        'id': [search_result.get('tracks')['items'][0]['id']], #song id\n",
        "                                        'play count': row[2]})\n",
        "            all_rows_df = all_rows_df.append(curr_row_df)\n",
        "          except:\n",
        "            continue          \n",
        "\n",
        "      return all_rows_df\n",
        "          \n",
        "from_csv = get_artist_song_ids()\n",
        "from_csv"
      ],
      "execution_count": 87,
      "outputs": [
        {
          "output_type": "execute_result",
          "data": {
            "text/html": [
              "<div>\n",
              "<style scoped>\n",
              "    .dataframe tbody tr th:only-of-type {\n",
              "        vertical-align: middle;\n",
              "    }\n",
              "\n",
              "    .dataframe tbody tr th {\n",
              "        vertical-align: top;\n",
              "    }\n",
              "\n",
              "    .dataframe thead th {\n",
              "        text-align: right;\n",
              "    }\n",
              "</style>\n",
              "<table border=\"1\" class=\"dataframe\">\n",
              "  <thead>\n",
              "    <tr style=\"text-align: right;\">\n",
              "      <th></th>\n",
              "      <th>artist</th>\n",
              "      <th>song</th>\n",
              "      <th>id</th>\n",
              "      <th>play count</th>\n",
              "    </tr>\n",
              "  </thead>\n",
              "  <tbody>\n",
              "    <tr>\n",
              "      <th>0</th>\n",
              "      <td>Drake</td>\n",
              "      <td>Deep Pockets</td>\n",
              "      <td>3IvMYBE7A3c7to1aEcfFJk</td>\n",
              "      <td>12482146</td>\n",
              "    </tr>\n",
              "    <tr>\n",
              "      <th>0</th>\n",
              "      <td>Drake</td>\n",
              "      <td>When To Say When</td>\n",
              "      <td>5TCBWmEBrin7etRa4Lswr1</td>\n",
              "      <td>12885199</td>\n",
              "    </tr>\n",
              "    <tr>\n",
              "      <th>0</th>\n",
              "      <td>Drake</td>\n",
              "      <td>Chicago Freestyle (feat. Giveon)</td>\n",
              "      <td>4wVOKKEHUJxHCFFNUWDn0B</td>\n",
              "      <td>36258296</td>\n",
              "    </tr>\n",
              "    <tr>\n",
              "      <th>0</th>\n",
              "      <td>Drake</td>\n",
              "      <td>Not You Too (feat. Chris Brown)</td>\n",
              "      <td>3Q4gttWQ6hxqWOa3tHoTNi</td>\n",
              "      <td>15311250</td>\n",
              "    </tr>\n",
              "    <tr>\n",
              "      <th>0</th>\n",
              "      <td>Drake</td>\n",
              "      <td>Toosie Slide</td>\n",
              "      <td>127QTOFJsJQp5LbJbu3A1y</td>\n",
              "      <td>273281855</td>\n",
              "    </tr>\n",
              "    <tr>\n",
              "      <th>...</th>\n",
              "      <td>...</td>\n",
              "      <td>...</td>\n",
              "      <td>...</td>\n",
              "      <td>...</td>\n",
              "    </tr>\n",
              "    <tr>\n",
              "      <th>0</th>\n",
              "      <td>Lil Baby</td>\n",
              "      <td>Ride Or Die</td>\n",
              "      <td>5N6z4rWwioNXS6kxEsUhVW</td>\n",
              "      <td>1625912</td>\n",
              "    </tr>\n",
              "    <tr>\n",
              "      <th>0</th>\n",
              "      <td>Lil Baby</td>\n",
              "      <td>Stendo</td>\n",
              "      <td>7GSlWq7g7RHCbsPMrJ0tEx</td>\n",
              "      <td>4725938</td>\n",
              "    </tr>\n",
              "    <tr>\n",
              "      <th>0</th>\n",
              "      <td>Lil Baby</td>\n",
              "      <td>Large</td>\n",
              "      <td>0NhuiLOx2ptpPIhAERs33C</td>\n",
              "      <td>1173485</td>\n",
              "    </tr>\n",
              "    <tr>\n",
              "      <th>0</th>\n",
              "      <td>Lil Baby</td>\n",
              "      <td>Pink Slip</td>\n",
              "      <td>4cAIfmo7P8InMxyyXsZtoM</td>\n",
              "      <td>2637854</td>\n",
              "    </tr>\n",
              "    <tr>\n",
              "      <th>0</th>\n",
              "      <td>Lil Baby</td>\n",
              "      <td>Survive Da Motion</td>\n",
              "      <td>6VhP0ZCa9Zs7j16iz0fNqi</td>\n",
              "      <td>1273485</td>\n",
              "    </tr>\n",
              "  </tbody>\n",
              "</table>\n",
              "<p>1061 rows × 4 columns</p>\n",
              "</div>"
            ],
            "text/plain": [
              "      artist  ... play count\n",
              "0      Drake  ...   12482146\n",
              "0      Drake  ...   12885199\n",
              "0      Drake  ...   36258296\n",
              "0      Drake  ...   15311250\n",
              "0      Drake  ...  273281855\n",
              "..       ...  ...        ...\n",
              "0   Lil Baby  ...    1625912\n",
              "0   Lil Baby  ...    4725938\n",
              "0   Lil Baby  ...    1173485\n",
              "0   Lil Baby  ...    2637854\n",
              "0   Lil Baby  ...    1273485\n",
              "\n",
              "[1061 rows x 4 columns]"
            ]
          },
          "metadata": {
            "tags": []
          },
          "execution_count": 87
        }
      ]
    },
    {
      "cell_type": "code",
      "metadata": {
        "id": "-X72f4IolZps",
        "colab_type": "code",
        "colab": {
          "base_uri": "https://localhost:8080/",
          "height": 419
        },
        "outputId": "7aee0034-6251-4a70-a55c-d408b6ae4c34"
      },
      "source": [
        "#add play count to features dataframe\n",
        "joined = pd.merge(from_csv, features, on='id')\n",
        "pd.set_option('display.max_rows', 10)\n",
        "pd.set_option('display.max_columns', None)\n",
        "\n",
        "joined.drop(0, axis=1)"
      ],
      "execution_count": 107,
      "outputs": [
        {
          "output_type": "execute_result",
          "data": {
            "text/html": [
              "<div>\n",
              "<style scoped>\n",
              "    .dataframe tbody tr th:only-of-type {\n",
              "        vertical-align: middle;\n",
              "    }\n",
              "\n",
              "    .dataframe tbody tr th {\n",
              "        vertical-align: top;\n",
              "    }\n",
              "\n",
              "    .dataframe thead th {\n",
              "        text-align: right;\n",
              "    }\n",
              "</style>\n",
              "<table border=\"1\" class=\"dataframe\">\n",
              "  <thead>\n",
              "    <tr style=\"text-align: right;\">\n",
              "      <th></th>\n",
              "      <th>artist</th>\n",
              "      <th>song</th>\n",
              "      <th>id</th>\n",
              "      <th>play count</th>\n",
              "      <th>key</th>\n",
              "      <th>loudness</th>\n",
              "      <th>tempo</th>\n",
              "      <th>duration_ms</th>\n",
              "      <th>time_signature</th>\n",
              "    </tr>\n",
              "  </thead>\n",
              "  <tbody>\n",
              "    <tr>\n",
              "      <th>0</th>\n",
              "      <td>Drake</td>\n",
              "      <td>Deep Pockets</td>\n",
              "      <td>3IvMYBE7A3c7to1aEcfFJk</td>\n",
              "      <td>12482146</td>\n",
              "      <td>7</td>\n",
              "      <td>-3.680</td>\n",
              "      <td>77.888</td>\n",
              "      <td>222929</td>\n",
              "      <td>4</td>\n",
              "    </tr>\n",
              "    <tr>\n",
              "      <th>1</th>\n",
              "      <td>Drake</td>\n",
              "      <td>When To Say When</td>\n",
              "      <td>5TCBWmEBrin7etRa4Lswr1</td>\n",
              "      <td>12885199</td>\n",
              "      <td>1</td>\n",
              "      <td>-6.808</td>\n",
              "      <td>170.718</td>\n",
              "      <td>223124</td>\n",
              "      <td>4</td>\n",
              "    </tr>\n",
              "    <tr>\n",
              "      <th>2</th>\n",
              "      <td>Drake</td>\n",
              "      <td>Chicago Freestyle (feat. Giveon)</td>\n",
              "      <td>4wVOKKEHUJxHCFFNUWDn0B</td>\n",
              "      <td>36258296</td>\n",
              "      <td>10</td>\n",
              "      <td>-7.507</td>\n",
              "      <td>122.947</td>\n",
              "      <td>220488</td>\n",
              "      <td>4</td>\n",
              "    </tr>\n",
              "    <tr>\n",
              "      <th>3</th>\n",
              "      <td>Drake</td>\n",
              "      <td>Not You Too (feat. Chris Brown)</td>\n",
              "      <td>3Q4gttWQ6hxqWOa3tHoTNi</td>\n",
              "      <td>15311250</td>\n",
              "      <td>9</td>\n",
              "      <td>-9.299</td>\n",
              "      <td>86.318</td>\n",
              "      <td>269680</td>\n",
              "      <td>4</td>\n",
              "    </tr>\n",
              "    <tr>\n",
              "      <th>4</th>\n",
              "      <td>Drake</td>\n",
              "      <td>Toosie Slide</td>\n",
              "      <td>127QTOFJsJQp5LbJbu3A1y</td>\n",
              "      <td>273281855</td>\n",
              "      <td>1</td>\n",
              "      <td>-9.750</td>\n",
              "      <td>81.618</td>\n",
              "      <td>247059</td>\n",
              "      <td>4</td>\n",
              "    </tr>\n",
              "    <tr>\n",
              "      <th>...</th>\n",
              "      <td>...</td>\n",
              "      <td>...</td>\n",
              "      <td>...</td>\n",
              "      <td>...</td>\n",
              "      <td>...</td>\n",
              "      <td>...</td>\n",
              "      <td>...</td>\n",
              "      <td>...</td>\n",
              "      <td>...</td>\n",
              "    </tr>\n",
              "    <tr>\n",
              "      <th>811</th>\n",
              "      <td>Lil Baby</td>\n",
              "      <td>My Jeans (Lil Baby &amp; Gunna feat. Young Thug)</td>\n",
              "      <td>4T7cJdrTRqOBESPYfvfj2x</td>\n",
              "      <td>13100384</td>\n",
              "      <td>11</td>\n",
              "      <td>-5.869</td>\n",
              "      <td>100.576</td>\n",
              "      <td>196448</td>\n",
              "      <td>5</td>\n",
              "    </tr>\n",
              "    <tr>\n",
              "      <th>812</th>\n",
              "      <td>Lil Baby</td>\n",
              "      <td>Close Friends (Lil Baby &amp; Gunna)</td>\n",
              "      <td>5nzhL67GpF9szXWg5y509A</td>\n",
              "      <td>182748232</td>\n",
              "      <td>10</td>\n",
              "      <td>-4.669</td>\n",
              "      <td>158.896</td>\n",
              "      <td>203881</td>\n",
              "      <td>4</td>\n",
              "    </tr>\n",
              "    <tr>\n",
              "      <th>813</th>\n",
              "      <td>Lil Baby</td>\n",
              "      <td>Drip Too Hard (Lil Baby &amp; Gunna)</td>\n",
              "      <td>78QR3Wp35dqAhFEc2qAGjE</td>\n",
              "      <td>622634854</td>\n",
              "      <td>1</td>\n",
              "      <td>-6.903</td>\n",
              "      <td>112.511</td>\n",
              "      <td>145543</td>\n",
              "      <td>4</td>\n",
              "    </tr>\n",
              "    <tr>\n",
              "      <th>814</th>\n",
              "      <td>Lil Baby</td>\n",
              "      <td>Drip Too Hard (Lil Baby &amp; Gunna)</td>\n",
              "      <td>78QR3Wp35dqAhFEc2qAGjE</td>\n",
              "      <td>622634854</td>\n",
              "      <td>1</td>\n",
              "      <td>-6.903</td>\n",
              "      <td>112.511</td>\n",
              "      <td>145543</td>\n",
              "      <td>4</td>\n",
              "    </tr>\n",
              "    <tr>\n",
              "      <th>815</th>\n",
              "      <td>Lil Baby</td>\n",
              "      <td>Never Recover (Lil Baby &amp; Gunna, Drake)</td>\n",
              "      <td>6wWaVoUOzLQJHd3bWAUpdZ</td>\n",
              "      <td>203874383</td>\n",
              "      <td>1</td>\n",
              "      <td>-5.415</td>\n",
              "      <td>132.055</td>\n",
              "      <td>194732</td>\n",
              "      <td>4</td>\n",
              "    </tr>\n",
              "  </tbody>\n",
              "</table>\n",
              "<p>816 rows × 9 columns</p>\n",
              "</div>"
            ],
            "text/plain": [
              "       artist                                          song  \\\n",
              "0       Drake                                  Deep Pockets   \n",
              "1       Drake                              When To Say When   \n",
              "2       Drake              Chicago Freestyle (feat. Giveon)   \n",
              "3       Drake               Not You Too (feat. Chris Brown)   \n",
              "4       Drake                                  Toosie Slide   \n",
              "..        ...                                           ...   \n",
              "811  Lil Baby  My Jeans (Lil Baby & Gunna feat. Young Thug)   \n",
              "812  Lil Baby              Close Friends (Lil Baby & Gunna)   \n",
              "813  Lil Baby              Drip Too Hard (Lil Baby & Gunna)   \n",
              "814  Lil Baby              Drip Too Hard (Lil Baby & Gunna)   \n",
              "815  Lil Baby       Never Recover (Lil Baby & Gunna, Drake)   \n",
              "\n",
              "                         id play count  key  loudness    tempo  duration_ms  \\\n",
              "0    3IvMYBE7A3c7to1aEcfFJk   12482146    7    -3.680   77.888       222929   \n",
              "1    5TCBWmEBrin7etRa4Lswr1   12885199    1    -6.808  170.718       223124   \n",
              "2    4wVOKKEHUJxHCFFNUWDn0B   36258296   10    -7.507  122.947       220488   \n",
              "3    3Q4gttWQ6hxqWOa3tHoTNi   15311250    9    -9.299   86.318       269680   \n",
              "4    127QTOFJsJQp5LbJbu3A1y  273281855    1    -9.750   81.618       247059   \n",
              "..                      ...        ...  ...       ...      ...          ...   \n",
              "811  4T7cJdrTRqOBESPYfvfj2x   13100384   11    -5.869  100.576       196448   \n",
              "812  5nzhL67GpF9szXWg5y509A  182748232   10    -4.669  158.896       203881   \n",
              "813  78QR3Wp35dqAhFEc2qAGjE  622634854    1    -6.903  112.511       145543   \n",
              "814  78QR3Wp35dqAhFEc2qAGjE  622634854    1    -6.903  112.511       145543   \n",
              "815  6wWaVoUOzLQJHd3bWAUpdZ  203874383    1    -5.415  132.055       194732   \n",
              "\n",
              "     time_signature  \n",
              "0                 4  \n",
              "1                 4  \n",
              "2                 4  \n",
              "3                 4  \n",
              "4                 4  \n",
              "..              ...  \n",
              "811               5  \n",
              "812               4  \n",
              "813               4  \n",
              "814               4  \n",
              "815               4  \n",
              "\n",
              "[816 rows x 9 columns]"
            ]
          },
          "metadata": {
            "tags": []
          },
          "execution_count": 107
        }
      ]
    },
    {
      "cell_type": "code",
      "metadata": {
        "id": "7VklcruC-5qR",
        "colab_type": "code",
        "colab": {}
      },
      "source": [
        "#Import and format data\n",
        "\n",
        "Dataloader()"
      ],
      "execution_count": 0,
      "outputs": []
    },
    {
      "cell_type": "code",
      "metadata": {
        "id": "84KRbbyJQHEn",
        "colab_type": "code",
        "outputId": "83e10826-1fc7-447c-b27f-c8f1b2deda50",
        "colab": {
          "base_uri": "https://localhost:8080/",
          "height": 187
        }
      },
      "source": [
        "#Define architecture\n",
        "class Net(nn.Module):\n",
        "    def __init__(self):\n",
        "        super(Net, self).__init__()\n",
        "        self.advance = nn.Sequential(nn.Linear(5, 5),\n",
        "                                     nn.ReLU(),\n",
        "                                     nn.Linear(5, 5),\n",
        "                                     nn.ReLU(),\n",
        "                                     nn.Linear(5, 5),\n",
        "                                     nn.Softmax()\n",
        "                                    )\n",
        "        print(self)\n",
        "\n",
        "    def forward(self, features):\n",
        "        output = self.advance(features.float())\n",
        "        return output\n",
        "\n",
        "net = Net()"
      ],
      "execution_count": 0,
      "outputs": [
        {
          "output_type": "stream",
          "text": [
            "Net(\n",
            "  (advance): Sequential(\n",
            "    (0): Linear(in_features=5, out_features=5, bias=True)\n",
            "    (1): ReLU()\n",
            "    (2): Linear(in_features=5, out_features=5, bias=True)\n",
            "    (3): ReLU()\n",
            "    (4): Linear(in_features=5, out_features=5, bias=True)\n",
            "    (5): Softmax(dim=None)\n",
            "  )\n",
            ")\n"
          ],
          "name": "stdout"
        }
      ]
    },
    {
      "cell_type": "code",
      "metadata": {
        "id": "W-Y_pyH4YSTW",
        "colab_type": "code",
        "colab": {}
      },
      "source": [
        "import tensorflow as tf\n",
        "import functools\n",
        "\n",
        "import pandas as pd\n",
        "from tensorflow.keras.layers import Dense\n",
        "from tensorflow.keras import Model"
      ],
      "execution_count": 0,
      "outputs": []
    },
    {
      "cell_type": "markdown",
      "metadata": {
        "id": "bLQ45AM27P7V",
        "colab_type": "text"
      },
      "source": [
        "Load the data from csv file URLS and visualize:"
      ]
    },
    {
      "cell_type": "code",
      "metadata": {
        "id": "zBUMfGLN7NsZ",
        "colab_type": "code",
        "colab": {}
      },
      "source": [
        "TRAIN_DATA_URL = \".csv\" #.csv file url for train data\n",
        "TEST_DATA_URL = \".csv\" #csv file url for test data\n",
        "\n",
        "train_file_path = tf.keras.utils.get_file(\"train.csv\", TRAIN_DATA_URL)\n",
        "test_file_path = tf.keras.utils.get_file(\"test.csv\", TEST_DATA_URL)\n",
        "\n",
        "LABEL_COLUMN = 'popularity_score' #the column name of the value the model predicts\n",
        "LABELS = [0, 1]\n",
        "\n",
        "#load dataset\n",
        "def get_dataset(file_path, **kwargs):\n",
        "    dataset = tf.data.experimental.make_csv_dataset(\n",
        "        file_path,\n",
        "        batch_size = , #insert batch size\n",
        "        label_name = LABEL_COLUMN,\n",
        "        num_epochs = 1,\n",
        "        ignore_errors = True,\n",
        "        **kwargs)\n",
        "    return dataset\n",
        "\n",
        "raw_train_data = get_dataset(train_file_path)\n",
        "raw_test_data = get_dataset(test_file_path) \n",
        "\n",
        "#visualize dataset\n",
        "def show_batch(dataset):\n",
        "    for batch, label in dataset.take(1):\n",
        "        for key, value in batch.items():\n",
        "            print(\"{:10s}: {}\".format(key,value.numpy()))"
      ],
      "execution_count": 0,
      "outputs": []
    },
    {
      "cell_type": "markdown",
      "metadata": {
        "id": "fhsrRdwz8cU6",
        "colab_type": "text"
      },
      "source": [
        "Organize the data into continuous and categorical data (i dont think we have cat data) that cna be analyzed #assume that the csv file has the labels already on the first row, otherwise pass it in \n",
        "`make_csv_dataset`\n",
        "\n"
      ]
    },
    {
      "cell_type": "code",
      "metadata": {
        "id": "lFdoftQr84Er",
        "colab_type": "code",
        "colab": {}
      },
      "source": [
        "SELECT_COLUMNS = ['duration_ms', 'key', 'loudness', 'tempo', 'time_signature'] #omit the ID column\n",
        "DEFAULTS = [0.0, 0, 0.0, 0.0, 0]\n",
        "\n",
        "temp_dataset = get_dataset(train_file_path, select_columns=SELECT_COLUMNS, column_defaults = DEFAULTS)\n",
        "show_batch(temp_dataset) #visualization, can remove\n",
        "\n",
        "#pack the numerical data into vectors prior to preprocessing\n",
        "class PackNumericFeatures(object):\n",
        "  def __init__(self, names):\n",
        "    self.names = names\n",
        "\n",
        "  def __call__(self, features, labels):\n",
        "    numeric_features = [features.pop(name) for name in self.names]\n",
        "    numeric_features = [tf.cast(feat, tf.float32) for feat in numeric_features]\n",
        "    numeric_features = tf.stack(numeric_features, axis=-1)\n",
        "    features['numeric'] = numeric_features\n",
        "\n",
        "    return features, labels\n",
        "\n",
        "NUMERIC_FEATURES = SELECT_COLUMNS\n",
        "\n",
        "packed_train_data = raw_train_data.map(PackNumericFeatures(NUMERIC_FEATURES))\n",
        "packed_test_data = raw_test_data.map(PackNumericFeatures(NUMERIC_FEATURES))"
      ],
      "execution_count": 0,
      "outputs": []
    },
    {
      "cell_type": "markdown",
      "metadata": {
        "id": "VmQIl60VDKIy",
        "colab_type": "text"
      },
      "source": [
        "Perform some sort of data preprocessing on the continuous data (something basic rn like normalization or mean subtraction) "
      ]
    },
    {
      "cell_type": "markdown",
      "metadata": {
        "id": "Z2iMxWtRJfDc",
        "colab_type": "text"
      },
      "source": [
        "Time signature and key are categorical data. Key ranges from -1 to 12 in the following manner:\n",
        "\n",
        "Key: -1: No key \n",
        "     0: C major\n",
        "     1: C# major\n",
        "\n",
        "**ISSUE:** All values of time signature aren't known\n",
        "\n"
      ]
    },
    {
      "cell_type": "code",
      "metadata": {
        "id": "0hO5jGQiDNY5",
        "colab_type": "code",
        "colab": {}
      },
      "source": [
        "#Continuous data\n",
        "desc = pd.read_csv(train_file_path)[NUMERIC_FEATURES].describe()\n",
        "desc #visualize our song data in pandas table\n",
        "\n",
        "MEAN = np.array(desc.T['mean'])\n",
        "STD = np.array(desc.T['std'])\n",
        "\n",
        "def normalize_numeric_data(data, mean, std):\n",
        "  # Center the data\n",
        "  return (data-mean)/std\n",
        "normalizer = functools.partial(normalize_numeric_data, mean=MEAN, std=STD)\n",
        "\n",
        "numeric_column = tf.feature_column.numeric_column('numeric', normalizer_fn=normalizer, shape=[len(NUMERIC_FEATURES)])\n",
        "numeric_columns = [numeric_column]\n",
        "numeric_columns\n",
        "\n",
        "#Categorical data \n",
        "CATEGORIES = {\n",
        "    'key': ['-1', '0', '1', '2', '3', '4', '5', '6', '7', '8', '9', '10', '11', '12'],\n",
        "    'time_signature' : ['3', '4'],\n",
        "}\n",
        "categorical_columns = []\n",
        "for feature, vocab in CATEGORIES.items():\n",
        "  cat_col = tf.feature_column.categorical_column_with_vocabulary_list(\n",
        "        key=feature, vocabulary_list=vocab)\n",
        "  categorical_columns.append(tf.feature_column.indicator_column(cat_col))"
      ],
      "execution_count": 0,
      "outputs": []
    },
    {
      "cell_type": "markdown",
      "metadata": {
        "id": "d9sgJcziX1il",
        "colab_type": "text"
      },
      "source": [
        "Soem layers for use in the net with the preprocessed data\n"
      ]
    },
    {
      "cell_type": "code",
      "metadata": {
        "id": "Ur86U-DDXdoW",
        "colab_type": "code",
        "colab": {}
      },
      "source": [
        "preprocessing_layer = tf.keras.layers.DenseFeatures(categorical_columns+numeric_columns)\n",
        "tf.keras.layers.Dense(1) "
      ],
      "execution_count": 0,
      "outputs": []
    },
    {
      "cell_type": "markdown",
      "metadata": {
        "id": "V2MoGglMZG_A",
        "colab_type": "text"
      },
      "source": [
        "Downloading spotify songs from a playlist as MP3s for potential waveform analysis "
      ]
    },
    {
      "cell_type": "code",
      "metadata": {
        "id": "eL-PM4p8ZOkd",
        "colab_type": "code",
        "colab": {}
      },
      "source": [
        ""
      ],
      "execution_count": 0,
      "outputs": []
    },
    {
      "cell_type": "markdown",
      "metadata": {
        "id": "Fy3dR-zaVMWv",
        "colab_type": "text"
      },
      "source": [
        "I think that the best way to store data would be to write it into a google sheet that's easily accessible so I'm trying to do that here\n",
        "\n",
        "TO-DO: \n",
        "\n",
        "1.   put the credentials.json file into the path (wehre tf is the path for google drive)\n",
        "2.   make sure dataframes are the correct types (im not sure what the spotify.user_playlist_tracks return type is, but format the pandas df into a convenient datatype) -- like can i put the return of this_iter_track_ids into a pd dataframe without any dtype conversions smoothly?\n",
        "3. make sure the update_cells usage is correct for pygsheets\n",
        "3.   get_track_features method\n",
        "\n"
      ]
    },
    {
      "cell_type": "markdown",
      "metadata": {
        "id": "cVVfYhTqRkDI",
        "colab_type": "text"
      },
      "source": [
        ""
      ]
    },
    {
      "cell_type": "code",
      "metadata": {
        "id": "A2OJixIKVGW_",
        "colab_type": "code",
        "colab": {}
      },
      "source": [
        "import pygsheets\n",
        "import pandas as pd\n",
        "\n",
        "'''\n",
        "Access tokens here\n",
        "'''\n",
        "\n",
        "USERNAME = ''\n",
        "PLAYLIST_ID = ''\n",
        "\n",
        "#auth\n",
        "gc = pygsheets.authorize(service_file='drive/My Drive/predictify/predictify-data-a664cf501a42.json') #fill in the credentials.json here\n",
        "\n",
        "#open the sheet\n",
        "sh = gc.open('Song Data')\n",
        "wks = sh[0]\n",
        "#method that stores the data as a pandas dataframe and then shoves the dataframe into the google sheets\n",
        "def get_track_ids(username, playlist_id):\n",
        "  OFFSET = 0\n",
        "  track_ids = pd.Dataframe() #dataframe init\n",
        "  for i in range(spotify.user_playlist_tracks(USERNAME, PLAYLIST_ID, fields = total): #for the number of tracks in the playlist ID, offset increases by 100 every time\n",
        "    this_iter_track_ids = spotify.user_playlist_tracks(USERNAME, PLAYLIST_ID, limit = 100, OFFSET)\n",
        "    track_ids = track_ids.append(this_iter_track_ids)\n",
        "    OFFSET += 100\n",
        "  track_ids = pd.concat(track_ids, ignore_index = True)\n",
        "  #update the first sheet with df, starting at cell A2.\n",
        "  return track_ids\n",
        "\n",
        "#extract the track ids from either the initial pd dataframe or the google sheet and use it to get song features, then store the features into df and google sheets\n",
        "def get_track_features(username, track_ids):\n",
        "  track_features = pd.Dataframe() #dataframe init\n",
        "  keys = ['duration_ms', 'id', 'key', 'loudness', 'tempo', 'time_signature']\n",
        "  for i in range(len(get_track_ids(USERNAME, PLAYLIST_ID).index)):\n",
        "    #append the data into track_features\n",
        "    this_iter_track_features = track_features.append({key: value for (key, value in track.items() if key in keys)})\n",
        "  return track_features\n",
        "\n",
        "column_data = [get_track_ids(), get_track_features()]\n",
        "complete_data = pd.concat(column_data)\n",
        "wks.set_dataframe(complete_data, (2, 1), extend = True, escape_formulae = True)\n",
        "wks.export(filetype = 'csv', filename = 'SongData')"
      ],
      "execution_count": 0,
      "outputs": []
    }
  ]
}